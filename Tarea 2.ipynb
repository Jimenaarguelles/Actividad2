{
 "cells": [
  {
   "cell_type": "code",
   "execution_count": 8,
   "id": "f05634bb",
   "metadata": {},
   "outputs": [
    {
     "name": "stdout",
     "output_type": "stream",
     "text": [
      "[3, 6, 9, 12, 15, 18, 21, 24, 27, 30, 33, 36, 39, 42, 45, 48, 51, 54, 57, 60, 63, 66, 69, 72, 75, 78, 81, 84, 87, 90, 93, 96, 99, 102, 105, 108, 111, 114, 117, 120, 123, 126, 129, 132, 135, 138, 141, 144, 147, 150, 153, 156, 159, 162, 165, 168, 171, 174, 177, 180, 183, 186, 189, 192, 195, 198, 201, 204, 207, 210, 213, 216, 219, 222, 225, 228, 231, 234, 237, 240, 243, 246, 249, 252, 255, 258, 261, 264, 267, 270, 273, 276, 279, 282, 285, 288, 291, 294, 297, 300]\n"
     ]
    }
   ],
   "source": [
    "lista = []\n",
    "for item in range(3, 301, 3):\n",
    "    lista.append(item)\n",
    "print(lista)"
   ]
  },
  {
   "cell_type": "code",
   "execution_count": 12,
   "id": "6f4f34eb",
   "metadata": {},
   "outputs": [
    {
     "name": "stdout",
     "output_type": "stream",
     "text": [
      "[33.7, 29.56, 23.82, 43.34, 39.08, 29.39, 27.51, 23.88, 18.29, 42.74, 37.84, 25.89, 36.07, 19.08, 31.49, 41.67, 24.24, 16.21, 22.84, 34.72, 18.67, 41.23, 19.26, 29.67, 40.86, 26.17, 40.23, 31.13, 26.89, 26.86, 38.09, 28.2, 20.62, 20.44, 18.61, 43.72, 39.95, 29.74, 21.52, 50.22, 46.74, 32.69, 38.39, 21.67, 33.33, 31.12, 16.95, 27.39, 24.84, 41.8, 30.11, 25.08, 47.61, 49.34, 27.34, 19.14, 35.5, 40.82, 14.65, 42.19, 21.08, 18.84, 32.25, 54.42, 35.32, 31.43, 22.49, 48.49, 40.9, 31.02, 28.76, 30.11, 30.32, 35.09, 32.99, 47.47, 26.13, 44.46, 24.53, 19.73, 25.08, 21.11, 47.26, 29.59, 36.25, 31.41, 26.03, 54.7, 32.86, 21.5, 24.62, 41.86, 28.21, 41.14, 19.38, 39.64, 41.32, 38.54, 23.53, 40.77]\n"
     ]
    }
   ],
   "source": [
    "import pandas as p\n",
    "datos = p.read_excel(\"datosPE.xlsx\")\n",
    "indices = []\n",
    "for i in range(0, len(datos)):\n",
    "    indices.append(round(datos[\"Peso\"][i]/datos[\"Estatura\"][i]**2, 2))\n",
    "print(indices)"
   ]
  },
  {
   "cell_type": "code",
   "execution_count": null,
   "id": "0201e454",
   "metadata": {},
   "outputs": [],
   "source": [
    "import pandas "
   ]
  },
  {
   "cell_type": "code",
   "execution_count": null,
   "id": "7c723b14",
   "metadata": {},
   "outputs": [],
   "source": []
  }
 ],
 "metadata": {
  "kernelspec": {
   "display_name": "Python 3 (ipykernel)",
   "language": "python",
   "name": "python3"
  },
  "language_info": {
   "codemirror_mode": {
    "name": "ipython",
    "version": 3
   },
   "file_extension": ".py",
   "mimetype": "text/x-python",
   "name": "python",
   "nbconvert_exporter": "python",
   "pygments_lexer": "ipython3",
   "version": "3.9.12"
  }
 },
 "nbformat": 4,
 "nbformat_minor": 5
}
